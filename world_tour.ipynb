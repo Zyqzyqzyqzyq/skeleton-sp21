{
  "nbformat": 4,
  "nbformat_minor": 0,
  "metadata": {
    "colab": {
      "provenance": [],
      "include_colab_link": true
    },
    "kernelspec": {
      "name": "python3",
      "display_name": "Python 3"
    },
    "language_info": {
      "name": "python"
    }
  },
  "cells": [
    {
      "cell_type": "markdown",
      "metadata": {
        "id": "view-in-github",
        "colab_type": "text"
      },
      "source": [
        "<a href=\"https://colab.research.google.com/github/Zyqzyqzyqzyq/skeleton-sp21/blob/master/world_tour.ipynb\" target=\"_parent\"><img src=\"https://colab.research.google.com/assets/colab-badge.svg\" alt=\"Open In Colab\"/></a>"
      ]
    },
    {
      "cell_type": "markdown",
      "source": [
        "# project-description\n",
        "The World Tour project is a combination of optimal transport and\n",
        "resources allocation problems. The goal of the project is to organize\n",
        "the best route to minimize the cost in terms of flight and staging, and\n",
        "to maximize the total revenue. This problem can be visualized to a graph\n",
        "filled with nodes which represents each city and lines between source\n",
        "city and target city could be the route."
      ],
      "metadata": {
        "id": "QzMFTHq8aeg0"
      }
    },
    {
      "cell_type": "markdown",
      "source": [
        "# Question list"
      ],
      "metadata": {
        "id": "F0LXBIq8fe1Z"
      }
    },
    {
      "cell_type": "markdown",
      "source": [
        "#### Which 15 cities does Lady Gaga have the highest level of popularity on each continent?\n",
        "Criteria of city selection in each continent:  \n",
        "* Country selecting: Google Trends (Keyword: “Chromatical Ball” in past 12 months);\n",
        "* Cities are chosen based on the past data of the world tour for Lady gaga;\n",
        "* Each countries should have at most 3 cities (exclude countries in North America);\n"
      ],
      "metadata": {
        "id": "VYf4yULKaimz"
      }
    },
    {
      "cell_type": "markdown",
      "source": [
        "####The reference concert for choosing the cities and venues:\n",
        "* The Fame Ball Tour (2009)\n",
        "* The Monster Ball Tour (2009–2011)\n",
        "* The Born This Way Ball (2012–2013)\n",
        "* ArtRave: The Artpop Ball (2014)\n",
        "* Joanne World Tour (2017–2018)\n",
        "\n",
        "```\n",
        "# This is formatted as code\n",
        "```\n",
        "\n",
        "\n",
        "* The Chromatica Ball (2022)\n"
      ],
      "metadata": {
        "id": "HhK13sf_atRi"
      }
    },
    {
      "cell_type": "markdown",
      "source": [
        "#### What is the objective function? How does the objective function relate to an optimal transport problem?\n",
        "* Ticket Revunue - Cost of tour - Staging cost\n",
        "\n"
      ],
      "metadata": {
        "id": "zWTdr56jatb6"
      }
    },
    {
      "cell_type": "markdown",
      "source": [
        "#### What are the constraints?\n",
        "* maximum capacity of each venue\n",
        "* permitted flight tour between cities(domestic and international) "
      ],
      "metadata": {
        "id": "A024Vfd4ateS"
      }
    },
    {
      "cell_type": "markdown",
      "source": [
        "#### Which two continents should be connected?\n",
        "* North America -> South America -> Africa -> Oceania -> Asia -> Europe -> North America\n",
        "* North America -> South America -> Africa -> Europe -> Asia -> Oceania -> North America\n"
      ],
      "metadata": {
        "id": "gjsyQSSWaxFK"
      }
    },
    {
      "cell_type": "markdown",
      "source": [
        "#### How do we visualize the cities that we have chosen to make a clear pattern of the problem? What tools? \n",
        "* By using Google my map to plot and connect the cities. \n",
        "* By using Distance.to calculating the distance of each cities.\n",
        "#### What are the factors that we consider the starting city and target city for each continent?\n",
        "* Distance and Permitted flight\n"
      ],
      "metadata": {
        "id": "6YKfW94HaxPi"
      }
    },
    {
      "cell_type": "markdown",
      "source": [
        "#### Additional factors may need to be considered\n",
        "* Should the flight between two cities really exist or we evaluate the theoretical optimal route only?\n",
        "* Ticket Pricing: Based on past data and predicting the rate of increase.\n",
        "\n",
        "\n"
      ],
      "metadata": {
        "id": "aQTHhj62fPCr"
      }
    },
    {
      "cell_type": "markdown",
      "source": [
        "# Examples of data collected and computations performed\n",
        "* All cities venue capacity distance between cities. (show a table as an example here) \n",
        "* Price and quantity sold of tickets in each city/Revenue from advertising and sponsorships\n",
        "* Total cost of staging a concert in each city/Travel costs between cities (flight, hotel..)\n",
        "* Net profit/Price of ticket\n"
      ],
      "metadata": {
        "id": "HU_JYRGIfvUx"
      }
    },
    {
      "cell_type": "code",
      "execution_count": null,
      "metadata": {
        "id": "sePqyKlaN8Br",
        "colab": {
          "base_uri": "https://localhost:8080/"
        },
        "outputId": "7c91f157-b54b-4563-e130-d6045ff56c34"
      },
      "outputs": [
        {
          "output_type": "stream",
          "name": "stdout",
          "text": [
            "Looking in indexes: https://pypi.org/simple, https://us-python.pkg.dev/colab-wheels/public/simple/\n",
            "Collecting ortools\n",
            "  Downloading ortools-9.4.1874-cp37-cp37m-manylinux_2_17_x86_64.manylinux2014_x86_64.whl (16.0 MB)\n",
            "\u001b[K     |████████████████████████████████| 16.0 MB 9.2 MB/s \n",
            "\u001b[?25hCollecting protobuf>=3.19.4\n",
            "  Downloading protobuf-4.21.9-cp37-abi3-manylinux2014_x86_64.whl (408 kB)\n",
            "\u001b[K     |████████████████████████████████| 408 kB 60.4 MB/s \n",
            "\u001b[?25hRequirement already satisfied: numpy>=1.13.3 in /usr/local/lib/python3.7/dist-packages (from ortools) (1.21.6)\n",
            "Requirement already satisfied: absl-py>=0.13 in /usr/local/lib/python3.7/dist-packages (from ortools) (1.3.0)\n",
            "Installing collected packages: protobuf, ortools\n",
            "  Attempting uninstall: protobuf\n",
            "    Found existing installation: protobuf 3.17.3\n",
            "    Uninstalling protobuf-3.17.3:\n",
            "      Successfully uninstalled protobuf-3.17.3\n",
            "\u001b[31mERROR: pip's dependency resolver does not currently take into account all the packages that are installed. This behaviour is the source of the following dependency conflicts.\n",
            "tensorflow 2.9.2 requires protobuf<3.20,>=3.9.2, but you have protobuf 4.21.9 which is incompatible.\n",
            "tensorflow-metadata 1.10.0 requires protobuf<4,>=3.13, but you have protobuf 4.21.9 which is incompatible.\n",
            "tensorboard 2.9.1 requires protobuf<3.20,>=3.9.2, but you have protobuf 4.21.9 which is incompatible.\n",
            "google-cloud-bigquery-storage 1.1.2 requires protobuf<4.0.0dev, but you have protobuf 4.21.9 which is incompatible.\n",
            "google-api-core 1.31.6 requires protobuf<4.0.0dev,>=3.12.0; python_version > \"3\", but you have protobuf 4.21.9 which is incompatible.\u001b[0m\n",
            "Successfully installed ortools-9.4.1874 protobuf-4.21.9\n"
          ]
        }
      ],
      "source": [
        "!pip install ortools\n"
      ]
    },
    {
      "cell_type": "code",
      "source": [
        "from ortools.constraint_solver import routing_enums_pb2\n",
        "from ortools.constraint_solver import pywrapcp\n",
        "\n",
        "\n",
        "def create_data_model():\n",
        "    data = {}\n",
        "    data['distance_matrix'] = [\n",
        "        [0, 852, 339,\t362,\t1676,\t1728,\t2587,\t3458,\t5134,\t5523,\t4333,\t1124],\n",
        "        [852,\t0,\t546\t,1127,\t844,\t957,\t1878,\t3334,\t5631,\t5673,\t4572,\t822],\n",
        "        [339,\t546\t,0,\t680\t,1345\t,1389,\t2252,\t3275,\t5217,\t5453,\t4295,\t836],\n",
        "        [362,\t1127,\t680,\t0\t,1970\t,2050,\t2930,\t3783,\t5238,\t5765,\t4554,\t1486],\n",
        "        [1676,\t844,\t1345,\t1970,\t0\t,282,\t1140,\t3141,\t5964,\t5650,\t4676,\t1043],\n",
        "        [1728,\t957,\t1385,\t2050,\t282\t,0,\t930\t,2863,\t5754,\t5381,\t4425,\t909],\n",
        "        [2587\t,1878,\t2252,\t2930,\t1140,\t930\t,0,\t2469,\t5799,\t5034,\t4263,\t1561],\n",
        "        [3458,\t3334,\t3275,\t3783,\t3141,\t2863,\t2469,\t0\t,3602,\t2567,\t1894,\t2520],\n",
        "        [5134,\t5631,\t5217,\t5238,\t5964,\t5754,\t5799,\t3602,\t0\t,2158\t,1759\t,4955],\n",
        "        [5523,\t5673,\t5453,\t5765,\t5650,\t5381,\t5034,\t2567,\t2158,\t0\t,1249\t,4859],\n",
        "        [4333,\t4572,\t4295,\t4554,\t4676,\t4425,\t4263,\t1894\t,1759\t,1249,\t0\t,3784],\n",
        "        [1124,\t822,\t836,\t1486,\t1043,\t909\t,1561,\t2520,\t4955,\t4859,\t3784,\t0],\n",
        "    ]  # distance in Km\n",
        "    data['num_vehicles'] = 1\n",
        "    data['depot'] = 0\n",
        "    return data\n",
        "\n",
        "\n",
        "def print_solution(manager, routing, solution):\n",
        "    \"\"\"Prints solution on console.\"\"\"\n",
        "    print('Objective: {} kilometers'.format(solution.ObjectiveValue()))\n",
        "    index = routing.Start(0)\n",
        "    plan_output = 'Route for vehicle 0:\\n'\n",
        "    route_distance = 0\n",
        "    while not routing.IsEnd(index):\n",
        "        plan_output += ' {} ->'.format(manager.IndexToNode(index))\n",
        "        previous_index = index\n",
        "        index = solution.Value(routing.NextVar(index))\n",
        "        route_distance += routing.GetArcCostForVehicle(previous_index, index, 0)\n",
        "    plan_output += ' {}\\n'.format(manager.IndexToNode(index))\n",
        "    print(plan_output)\n",
        "    plan_output += 'Route distance: {}kilometers\\n'.format(route_distance)\n",
        "\n",
        "\n",
        "def main():\n",
        "    \"\"\"Entry point of the program.\"\"\"\n",
        "    # Instantiate the data problem.\n",
        "    data = create_data_model()\n",
        "\n",
        "    # Create the routing index manager.\n",
        "    manager = pywrapcp.RoutingIndexManager(len(data['distance_matrix']),\n",
        "                                           data['num_vehicles'], data['depot'])\n",
        "\n",
        "    # Create Routing Model.\n",
        "    routing = pywrapcp.RoutingModel(manager)\n",
        "\n",
        "\n",
        "    def distance_callback(from_index, to_index):\n",
        "        \"\"\"Returns the distance between the two nodes.\"\"\"\n",
        "        # Convert from routing variable Index to distance matrix NodeIndex.\n",
        "        from_node = manager.IndexToNode(from_index)\n",
        "        to_node = manager.IndexToNode(to_index)\n",
        "        return data['distance_matrix'][from_node][to_node]\n",
        "\n",
        "    transit_callback_index = routing.RegisterTransitCallback(distance_callback)\n",
        "\n",
        "    # Define cost of each arc.\n",
        "    routing.SetArcCostEvaluatorOfAllVehicles(transit_callback_index)\n",
        "\n",
        "    # Setting first solution heuristic.\n",
        "    search_parameters = pywrapcp.DefaultRoutingSearchParameters()\n",
        "    search_parameters.first_solution_strategy = (\n",
        "        routing_enums_pb2.FirstSolutionStrategy.PATH_CHEAPEST_ARC)\n",
        "\n",
        "    # Solve the problem.\n",
        "    solution = routing.SolveWithParameters(search_parameters)\n",
        "\n",
        "    # Print solution on console.\n",
        "    if solution:\n",
        "        print_solution(manager, routing, solution)\n",
        "\n",
        "\n",
        "main()\n",
        "\n"
      ],
      "metadata": {
        "colab": {
          "base_uri": "https://localhost:8080/"
        },
        "id": "m6UqXRk5Wjow",
        "outputId": "309dad44-8d5d-4e60-9b3b-4bf7fb3beada"
      },
      "execution_count": null,
      "outputs": [
        {
          "output_type": "stream",
          "name": "stdout",
          "text": [
            "Objective: 17332 kilometers\n",
            "Route for vehicle 0:\n",
            " 0 -> 2 -> 1 -> 11 -> 4 -> 5 -> 6 -> 7 -> 10 -> 9 -> 8 -> 3 -> 0\n",
            "\n"
          ]
        }
      ]
    },
    {
      "cell_type": "markdown",
      "source": [
        "## South America Cities Tour \n",
        "\n",
        "Cities:\n",
        "\n",
        "0. Sao Paulo\n",
        "\n",
        "1. Porto Alegre\n",
        "\n",
        "2. Curitiba\n",
        "\n",
        "3. Rio de Janeiro\n",
        "\n",
        "4. Buenos Aires\n",
        "\n",
        "5. Rosario\n",
        "\n",
        "6. Santiago\n",
        "\n",
        "7. Lima\n",
        "\n",
        "8. San Juan\n",
        "\n",
        "9. San José\n",
        "\n",
        "10. Bogotá\n",
        "\n",
        "11. Asunción"
      ],
      "metadata": {
        "id": "BUBUxdLUY3gz"
      }
    },
    {
      "cell_type": "code",
      "source": [
        " [0, 852, 339,\t362,\t1676,\t1728,\t2587,\t3458,\t5134,\t5523,\t4333,\t1124],\n",
        "        [852,\t0,\t546\t,1127,\t844,\t957,\t1878,\t3334,\t5631,\t5673,\t4572,\t822],\n",
        "        [339,\t546\t,0,\t680\t,1345\t,1389,\t2252,\t3275,\t5217,\t5453,\t4295,\t836],\n",
        "        [362,\t1127,\t680,\t0\t,1970\t,2050,\t2930,\t3783,\t5238,\t5765,\t4554,\t1486],\n",
        "        [1676,\t844,\t1345,\t1970,\t0\t,282,\t1140,\t3141,\t5964,\t5650,\t4676,\t1043],\n",
        "        [1728,\t957,\t1385,\t2050,\t282\t,0,\t930\t,2863,\t5754,\t5381,\t4425,\t909],\n",
        "        [2587\t,1878,\t2252,\t2930,\t1140,\t930\t,0,\t2469,\t5799,\t5034,\t4263,\t1561],\n",
        "        [3458,\t3334,\t3275,\t3783,\t3141,\t2863,\t2469,\t0\t,3602,\t2567,\t1894,\t2520],\n",
        "        [5134,\t5631,\t5217,\t5238,\t5964,\t5754,\t5799,\t3602,\t0\t,2158\t,1759\t,4955],\n",
        "        [5523,\t5673,\t5453,\t5765,\t5650,\t5381,\t5034,\t2567,\t2158,\t0\t,1249\t,4859],\n",
        "        [4333,\t4572,\t4295,\t4554,\t4676,\t4425,\t4263,\t1894\t,1759\t,1249,\t0\t,3784],\n",
        "        [1124,\t822,\t836,\t1486,\t1043,\t909\t,1561,\t2520,\t4955,\t4859,\t3784,\t0],]"
      ],
      "metadata": {
        "id": "OhpWh_bZXEIq"
      },
      "execution_count": null,
      "outputs": []
    },
    {
      "cell_type": "code",
      "source": [
        "import json\n",
        "\n",
        "import flask\n",
        "import numpy as np\n",
        "from flask import request, jsonify\n",
        "from ortools.constraint_solver import routing_enums_pb2\n",
        "from ortools.constraint_solver import pywrapcp\n",
        "\n",
        "app = flask.Flask(__name__)\n",
        "app.config[\"DEBUG\"] = True\n",
        "\n",
        "\n",
        "def create_data_model(distance_input_matrix):\n",
        "    \"\"\"Stores the data for the problem.\"\"\"\n",
        "    data = {'distance_matrix': distance_input_matrix, 'num_vehicles': 1, 'depot': 0}\n",
        "    data['distance_matrix'] = [\n",
        "        [0, 2451, 713, 1018, 1631, 1374, 2408, 213, 2571, 875, 1420, 2145, 1972],\n",
        "        [2451, 0, 1745, 1524, 831, 1240, 959, 2596, 403, 1589, 1374, 357, 579],\n",
        "        [713, 1745, 0, 355, 920, 803, 1737, 851, 1858, 262, 940, 1453, 1260],\n",
        "        [1018, 1524, 355, 0, 700, 862, 1395, 1123, 1584, 466, 1056, 1280, 987],\n",
        "        [1631, 831, 920, 700, 0, 663, 1021, 1769, 949, 796, 879, 586, 371],\n",
        "       [1374, 1240, 803, 862, 663, 0, 1681, 1551, 1765, 547, 225, 887, 999],\n",
        "         [2408, 959, 1737, 1395, 1021, 1681, 0, 2493, 678, 1724, 1891, 1114, 701],\n",
        "         [213, 2596, 851, 1123, 1769, 1551, 2493, 0, 2699, 1038, 1605, 2300, 2099],\n",
        "         [2571, 403, 1858, 1584, 949, 1765, 678, 2699, 0, 1744, 1645, 653, 600],\n",
        "         [875, 1589, 262, 466, 796, 547, 1724, 1038, 1744, 0, 679, 1272, 1162],\n",
        "        [1420, 1374, 940, 1056, 879, 225, 1891, 1605, 1645, 679, 0, 1017, 1200],\n",
        "         [2145, 357, 1453, 1280, 586, 887, 1114, 2300, 653, 1272, 1017, 0, 504],\n",
        "         [1972, 579, 1260, 987, 371, 999, 701, 2099, 600, 1162, 1200, 504, 0],\n",
        "     ]  # yapf: disable\n",
        "    return data\n",
        "\n",
        "\n",
        "def print_solution(manager, routing, solution):\n",
        "    \"\"\"Prints solution on console.\"\"\"\n",
        "    # print('Objective: {} miles'.format(solution.ObjectiveValue()))\n",
        "    index = routing.Start(0)\n",
        "    # plan_output = 'Route for vehicle 0:\\n'\n",
        "    plan_output = ''\n",
        "    route_distance = 0\n",
        "    while not routing.IsEnd(index):\n",
        "        plan_output += '{}->'.format(manager.IndexToNode(index))\n",
        "        previous_index = index\n",
        "        index = solution.Value(routing.NextVar(index))\n",
        "        route_distance += routing.GetArcCostForVehicle(previous_index, index, 0)\n",
        "    plan_output += '{}'.format(manager.IndexToNode(index))\n",
        "    return plan_output\n",
        "    # print(plan_output)\n",
        "    # plan_output += 'Route distance: {}miles\\n'.format(route_distance)\n",
        "\n",
        "\n",
        "def main(distance_input_matrix=None):\n",
        "    \"\"\"Entry point of the program.\"\"\"\n",
        "    # Instantiate the data problem.\n",
        "    data = create_data_model(distance_input_matrix)\n",
        "\n",
        "    # Create the routing index manager.\n",
        "    manager = pywrapcp.RoutingIndexManager(len(data['distance_matrix']),\n",
        "                                           data['num_vehicles'], data['depot'])\n",
        "\n",
        "    # Create Routing Model.\n",
        "    routing = pywrapcp.RoutingModel(manager)\n",
        "\n",
        "    def distance_callback(from_index, to_index):\n",
        "        \"\"\"Returns the distance between the two nodes.\"\"\"\n",
        "        # Convert from routing variable Index to distance matrix NodeIndex.\n",
        "        from_node = manager.IndexToNode(from_index)\n",
        "        to_node = manager.IndexToNode(to_index)\n",
        "        return data['distance_matrix'][from_node][to_node]\n",
        "\n",
        "    transit_callback_index = routing.RegisterTransitCallback(distance_callback)\n",
        "\n",
        "    # Define cost of each arc.\n",
        "    routing.SetArcCostEvaluatorOfAllVehicles(transit_callback_index)\n",
        "\n",
        "    # Setting first solution heuristic.\n",
        "    search_parameters = pywrapcp.DefaultRoutingSearchParameters()\n",
        "    search_parameters.first_solution_strategy = (\n",
        "        routing_enums_pb2.FirstSolutionStrategy.PATH_CHEAPEST_ARC)\n",
        "\n",
        "    # Solve the problem.\n",
        "    solution = routing.SolveWithParameters(search_parameters)\n",
        "\n",
        "    # Print solution on console.\n",
        "    if solution:\n",
        "        return print_solution(manager, routing, solution)\n",
        "\n",
        "\n",
        "@app.route('/', methods=['GET'])\n",
        "def home():\n",
        "    return main()\n",
        "\n",
        "\n",
        "@app.route('/optimize', methods=['POST'])\n",
        "def optimize():\n",
        "    if request.json:\n",
        "        data_matrix = request.json['data']\n",
        "        narrows = len(data_matrix)  # 3 rows in your example\n",
        "        narcs = len(data_matrix[0])\n",
        "        a = np.zeros((narrows + 1, narcs + 1), dtype='int32').tolist()\n",
        "        for i in range(len(data_matrix)):\n",
        "            for j in range(len(data_matrix[i])):\n",
        "                a[i][j] = data_matrix[i][j]\n",
        "        #result = main(a)\n",
        "        result = main(data_matrix)\n",
        "        r_l = result.split('->')\n",
        "        #r_l.remove(str(narrows))\n",
        "        return jsonify({'data': r_l})\n",
        "\n",
        "\n",
        "app.run()"
      ],
      "metadata": {
        "id": "T_awSCQLXl31",
        "colab": {
          "base_uri": "https://localhost:8080/",
          "height": 276
        },
        "outputId": "c3c977b1-b004-4178-ff44-5c9a067b819b"
      },
      "execution_count": 7,
      "outputs": [
        {
          "output_type": "stream",
          "name": "stdout",
          "text": [
            " * Serving Flask app \"__main__\" (lazy loading)\n",
            " * Environment: production\n",
            "\u001b[31m   WARNING: This is a development server. Do not use it in a production deployment.\u001b[0m\n",
            "\u001b[2m   Use a production WSGI server instead.\u001b[0m\n",
            " * Debug mode: on\n"
          ]
        },
        {
          "output_type": "stream",
          "name": "stderr",
          "text": [
            "INFO:werkzeug: * Running on http://127.0.0.1:5000/ (Press CTRL+C to quit)\n",
            "INFO:werkzeug: * Restarting with stat\n"
          ]
        },
        {
          "output_type": "error",
          "ename": "SystemExit",
          "evalue": "ignored",
          "traceback": [
            "An exception has occurred, use %tb to see the full traceback.\n",
            "\u001b[0;31mSystemExit\u001b[0m\u001b[0;31m:\u001b[0m 1\n"
          ]
        },
        {
          "output_type": "stream",
          "name": "stderr",
          "text": [
            "/usr/local/lib/python3.7/dist-packages/IPython/core/interactiveshell.py:3334: UserWarning: To exit: use 'exit', 'quit', or Ctrl-D.\n",
            "  warn(\"To exit: use 'exit', 'quit', or Ctrl-D.\", stacklevel=1)\n"
          ]
        }
      ]
    }
  ]
}